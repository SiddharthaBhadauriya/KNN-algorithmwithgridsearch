{
 "cells": [
  {
   "cell_type": "markdown",
   "metadata": {},
   "source": [
    "We will import all libraries whichever needed, else depending on whenever needed"
   ]
  },
  {
   "cell_type": "code",
   "execution_count": 27,
   "metadata": {},
   "outputs": [],
   "source": [
    "import pandas as pd\n",
    "import numpy as np\n",
    "import matplotlib.pyplot as plt\n",
    "import sklearn\n",
    "from sklearn.cluster import KMeans\n",
    "from sklearn import datasets\n",
    "from sklearn.metrics import confusion_matrix, classification_report\n",
    "from sklearn.preprocessing import scale, normalize ,StandardScaler"
   ]
  },
  {
   "cell_type": "markdown",
   "metadata": {},
   "source": [
    "As we already saw, that to convert txt to numpy array, we can use genfromtxt, so we will use it here from after downloading our dataset from given source."
   ]
  },
  {
   "cell_type": "code",
   "execution_count": 4,
   "metadata": {},
   "outputs": [
    {
     "name": "stdout",
     "output_type": "stream",
     "text": [
      "(4435, 37)\n"
     ]
    }
   ],
   "source": [
    "nh = np.genfromtxt('sat1.trn')\n",
    "print (nh.shape)"
   ]
  },
  {
   "cell_type": "markdown",
   "metadata": {},
   "source": [
    "Now, for converting it to dataframe, we need to decide the names of their respective columns, so we did"
   ]
  },
  {
   "cell_type": "code",
   "execution_count": 7,
   "metadata": {},
   "outputs": [
    {
     "data": {
      "text/html": [
       "<div>\n",
       "<style scoped>\n",
       "    .dataframe tbody tr th:only-of-type {\n",
       "        vertical-align: middle;\n",
       "    }\n",
       "\n",
       "    .dataframe tbody tr th {\n",
       "        vertical-align: top;\n",
       "    }\n",
       "\n",
       "    .dataframe thead th {\n",
       "        text-align: right;\n",
       "    }\n",
       "</style>\n",
       "<table border=\"1\" class=\"dataframe\">\n",
       "  <thead>\n",
       "    <tr style=\"text-align: right;\">\n",
       "      <th></th>\n",
       "      <th>wr1</th>\n",
       "      <th>wr2</th>\n",
       "      <th>wr3</th>\n",
       "      <th>wr4</th>\n",
       "      <th>wr5</th>\n",
       "      <th>wr6</th>\n",
       "      <th>wr7</th>\n",
       "      <th>wr8</th>\n",
       "      <th>wr9</th>\n",
       "      <th>wr10</th>\n",
       "      <th>...</th>\n",
       "      <th>wr28</th>\n",
       "      <th>wr29</th>\n",
       "      <th>wr30</th>\n",
       "      <th>wr31</th>\n",
       "      <th>wr32</th>\n",
       "      <th>wr33</th>\n",
       "      <th>wr34</th>\n",
       "      <th>wr35</th>\n",
       "      <th>wr36</th>\n",
       "      <th>wr37</th>\n",
       "    </tr>\n",
       "  </thead>\n",
       "  <tbody>\n",
       "    <tr>\n",
       "      <th>0</th>\n",
       "      <td>92.0</td>\n",
       "      <td>115.0</td>\n",
       "      <td>120.0</td>\n",
       "      <td>94.0</td>\n",
       "      <td>84.0</td>\n",
       "      <td>102.0</td>\n",
       "      <td>106.0</td>\n",
       "      <td>79.0</td>\n",
       "      <td>84.0</td>\n",
       "      <td>102.0</td>\n",
       "      <td>...</td>\n",
       "      <td>104.0</td>\n",
       "      <td>88.0</td>\n",
       "      <td>121.0</td>\n",
       "      <td>128.0</td>\n",
       "      <td>100.0</td>\n",
       "      <td>84.0</td>\n",
       "      <td>107.0</td>\n",
       "      <td>113.0</td>\n",
       "      <td>87.0</td>\n",
       "      <td>3.0</td>\n",
       "    </tr>\n",
       "    <tr>\n",
       "      <th>1</th>\n",
       "      <td>84.0</td>\n",
       "      <td>102.0</td>\n",
       "      <td>106.0</td>\n",
       "      <td>79.0</td>\n",
       "      <td>84.0</td>\n",
       "      <td>102.0</td>\n",
       "      <td>102.0</td>\n",
       "      <td>83.0</td>\n",
       "      <td>80.0</td>\n",
       "      <td>102.0</td>\n",
       "      <td>...</td>\n",
       "      <td>100.0</td>\n",
       "      <td>84.0</td>\n",
       "      <td>107.0</td>\n",
       "      <td>113.0</td>\n",
       "      <td>87.0</td>\n",
       "      <td>84.0</td>\n",
       "      <td>99.0</td>\n",
       "      <td>104.0</td>\n",
       "      <td>79.0</td>\n",
       "      <td>3.0</td>\n",
       "    </tr>\n",
       "    <tr>\n",
       "      <th>2</th>\n",
       "      <td>84.0</td>\n",
       "      <td>102.0</td>\n",
       "      <td>102.0</td>\n",
       "      <td>83.0</td>\n",
       "      <td>80.0</td>\n",
       "      <td>102.0</td>\n",
       "      <td>102.0</td>\n",
       "      <td>79.0</td>\n",
       "      <td>84.0</td>\n",
       "      <td>94.0</td>\n",
       "      <td>...</td>\n",
       "      <td>87.0</td>\n",
       "      <td>84.0</td>\n",
       "      <td>99.0</td>\n",
       "      <td>104.0</td>\n",
       "      <td>79.0</td>\n",
       "      <td>84.0</td>\n",
       "      <td>99.0</td>\n",
       "      <td>104.0</td>\n",
       "      <td>79.0</td>\n",
       "      <td>3.0</td>\n",
       "    </tr>\n",
       "    <tr>\n",
       "      <th>3</th>\n",
       "      <td>80.0</td>\n",
       "      <td>102.0</td>\n",
       "      <td>102.0</td>\n",
       "      <td>79.0</td>\n",
       "      <td>84.0</td>\n",
       "      <td>94.0</td>\n",
       "      <td>102.0</td>\n",
       "      <td>79.0</td>\n",
       "      <td>80.0</td>\n",
       "      <td>94.0</td>\n",
       "      <td>...</td>\n",
       "      <td>79.0</td>\n",
       "      <td>84.0</td>\n",
       "      <td>99.0</td>\n",
       "      <td>104.0</td>\n",
       "      <td>79.0</td>\n",
       "      <td>84.0</td>\n",
       "      <td>103.0</td>\n",
       "      <td>104.0</td>\n",
       "      <td>79.0</td>\n",
       "      <td>3.0</td>\n",
       "    </tr>\n",
       "    <tr>\n",
       "      <th>4</th>\n",
       "      <td>84.0</td>\n",
       "      <td>94.0</td>\n",
       "      <td>102.0</td>\n",
       "      <td>79.0</td>\n",
       "      <td>80.0</td>\n",
       "      <td>94.0</td>\n",
       "      <td>98.0</td>\n",
       "      <td>76.0</td>\n",
       "      <td>80.0</td>\n",
       "      <td>102.0</td>\n",
       "      <td>...</td>\n",
       "      <td>79.0</td>\n",
       "      <td>84.0</td>\n",
       "      <td>103.0</td>\n",
       "      <td>104.0</td>\n",
       "      <td>79.0</td>\n",
       "      <td>79.0</td>\n",
       "      <td>107.0</td>\n",
       "      <td>109.0</td>\n",
       "      <td>87.0</td>\n",
       "      <td>3.0</td>\n",
       "    </tr>\n",
       "    <tr>\n",
       "      <th>...</th>\n",
       "      <td>...</td>\n",
       "      <td>...</td>\n",
       "      <td>...</td>\n",
       "      <td>...</td>\n",
       "      <td>...</td>\n",
       "      <td>...</td>\n",
       "      <td>...</td>\n",
       "      <td>...</td>\n",
       "      <td>...</td>\n",
       "      <td>...</td>\n",
       "      <td>...</td>\n",
       "      <td>...</td>\n",
       "      <td>...</td>\n",
       "      <td>...</td>\n",
       "      <td>...</td>\n",
       "      <td>...</td>\n",
       "      <td>...</td>\n",
       "      <td>...</td>\n",
       "      <td>...</td>\n",
       "      <td>...</td>\n",
       "      <td>...</td>\n",
       "    </tr>\n",
       "    <tr>\n",
       "      <th>4430</th>\n",
       "      <td>56.0</td>\n",
       "      <td>64.0</td>\n",
       "      <td>108.0</td>\n",
       "      <td>96.0</td>\n",
       "      <td>64.0</td>\n",
       "      <td>71.0</td>\n",
       "      <td>108.0</td>\n",
       "      <td>96.0</td>\n",
       "      <td>68.0</td>\n",
       "      <td>75.0</td>\n",
       "      <td>...</td>\n",
       "      <td>92.0</td>\n",
       "      <td>66.0</td>\n",
       "      <td>83.0</td>\n",
       "      <td>108.0</td>\n",
       "      <td>96.0</td>\n",
       "      <td>66.0</td>\n",
       "      <td>87.0</td>\n",
       "      <td>104.0</td>\n",
       "      <td>89.0</td>\n",
       "      <td>5.0</td>\n",
       "    </tr>\n",
       "    <tr>\n",
       "      <th>4431</th>\n",
       "      <td>64.0</td>\n",
       "      <td>71.0</td>\n",
       "      <td>108.0</td>\n",
       "      <td>96.0</td>\n",
       "      <td>68.0</td>\n",
       "      <td>75.0</td>\n",
       "      <td>108.0</td>\n",
       "      <td>96.0</td>\n",
       "      <td>71.0</td>\n",
       "      <td>87.0</td>\n",
       "      <td>...</td>\n",
       "      <td>96.0</td>\n",
       "      <td>66.0</td>\n",
       "      <td>87.0</td>\n",
       "      <td>104.0</td>\n",
       "      <td>89.0</td>\n",
       "      <td>63.0</td>\n",
       "      <td>87.0</td>\n",
       "      <td>104.0</td>\n",
       "      <td>89.0</td>\n",
       "      <td>5.0</td>\n",
       "    </tr>\n",
       "    <tr>\n",
       "      <th>4432</th>\n",
       "      <td>68.0</td>\n",
       "      <td>75.0</td>\n",
       "      <td>108.0</td>\n",
       "      <td>96.0</td>\n",
       "      <td>71.0</td>\n",
       "      <td>87.0</td>\n",
       "      <td>108.0</td>\n",
       "      <td>88.0</td>\n",
       "      <td>71.0</td>\n",
       "      <td>91.0</td>\n",
       "      <td>...</td>\n",
       "      <td>89.0</td>\n",
       "      <td>63.0</td>\n",
       "      <td>87.0</td>\n",
       "      <td>104.0</td>\n",
       "      <td>89.0</td>\n",
       "      <td>70.0</td>\n",
       "      <td>100.0</td>\n",
       "      <td>104.0</td>\n",
       "      <td>85.0</td>\n",
       "      <td>4.0</td>\n",
       "    </tr>\n",
       "    <tr>\n",
       "      <th>4433</th>\n",
       "      <td>71.0</td>\n",
       "      <td>87.0</td>\n",
       "      <td>108.0</td>\n",
       "      <td>88.0</td>\n",
       "      <td>71.0</td>\n",
       "      <td>91.0</td>\n",
       "      <td>100.0</td>\n",
       "      <td>81.0</td>\n",
       "      <td>76.0</td>\n",
       "      <td>95.0</td>\n",
       "      <td>...</td>\n",
       "      <td>89.0</td>\n",
       "      <td>70.0</td>\n",
       "      <td>100.0</td>\n",
       "      <td>104.0</td>\n",
       "      <td>85.0</td>\n",
       "      <td>70.0</td>\n",
       "      <td>91.0</td>\n",
       "      <td>104.0</td>\n",
       "      <td>85.0</td>\n",
       "      <td>4.0</td>\n",
       "    </tr>\n",
       "    <tr>\n",
       "      <th>4434</th>\n",
       "      <td>71.0</td>\n",
       "      <td>91.0</td>\n",
       "      <td>100.0</td>\n",
       "      <td>81.0</td>\n",
       "      <td>76.0</td>\n",
       "      <td>95.0</td>\n",
       "      <td>108.0</td>\n",
       "      <td>88.0</td>\n",
       "      <td>80.0</td>\n",
       "      <td>95.0</td>\n",
       "      <td>...</td>\n",
       "      <td>85.0</td>\n",
       "      <td>70.0</td>\n",
       "      <td>91.0</td>\n",
       "      <td>104.0</td>\n",
       "      <td>85.0</td>\n",
       "      <td>63.0</td>\n",
       "      <td>91.0</td>\n",
       "      <td>100.0</td>\n",
       "      <td>81.0</td>\n",
       "      <td>4.0</td>\n",
       "    </tr>\n",
       "  </tbody>\n",
       "</table>\n",
       "<p>4435 rows × 37 columns</p>\n",
       "</div>"
      ],
      "text/plain": [
       "       wr1    wr2    wr3   wr4   wr5    wr6    wr7   wr8   wr9   wr10  ...  \\\n",
       "0     92.0  115.0  120.0  94.0  84.0  102.0  106.0  79.0  84.0  102.0  ...   \n",
       "1     84.0  102.0  106.0  79.0  84.0  102.0  102.0  83.0  80.0  102.0  ...   \n",
       "2     84.0  102.0  102.0  83.0  80.0  102.0  102.0  79.0  84.0   94.0  ...   \n",
       "3     80.0  102.0  102.0  79.0  84.0   94.0  102.0  79.0  80.0   94.0  ...   \n",
       "4     84.0   94.0  102.0  79.0  80.0   94.0   98.0  76.0  80.0  102.0  ...   \n",
       "...    ...    ...    ...   ...   ...    ...    ...   ...   ...    ...  ...   \n",
       "4430  56.0   64.0  108.0  96.0  64.0   71.0  108.0  96.0  68.0   75.0  ...   \n",
       "4431  64.0   71.0  108.0  96.0  68.0   75.0  108.0  96.0  71.0   87.0  ...   \n",
       "4432  68.0   75.0  108.0  96.0  71.0   87.0  108.0  88.0  71.0   91.0  ...   \n",
       "4433  71.0   87.0  108.0  88.0  71.0   91.0  100.0  81.0  76.0   95.0  ...   \n",
       "4434  71.0   91.0  100.0  81.0  76.0   95.0  108.0  88.0  80.0   95.0  ...   \n",
       "\n",
       "       wr28  wr29   wr30   wr31   wr32  wr33   wr34   wr35  wr36  wr37  \n",
       "0     104.0  88.0  121.0  128.0  100.0  84.0  107.0  113.0  87.0   3.0  \n",
       "1     100.0  84.0  107.0  113.0   87.0  84.0   99.0  104.0  79.0   3.0  \n",
       "2      87.0  84.0   99.0  104.0   79.0  84.0   99.0  104.0  79.0   3.0  \n",
       "3      79.0  84.0   99.0  104.0   79.0  84.0  103.0  104.0  79.0   3.0  \n",
       "4      79.0  84.0  103.0  104.0   79.0  79.0  107.0  109.0  87.0   3.0  \n",
       "...     ...   ...    ...    ...    ...   ...    ...    ...   ...   ...  \n",
       "4430   92.0  66.0   83.0  108.0   96.0  66.0   87.0  104.0  89.0   5.0  \n",
       "4431   96.0  66.0   87.0  104.0   89.0  63.0   87.0  104.0  89.0   5.0  \n",
       "4432   89.0  63.0   87.0  104.0   89.0  70.0  100.0  104.0  85.0   4.0  \n",
       "4433   89.0  70.0  100.0  104.0   85.0  70.0   91.0  104.0  85.0   4.0  \n",
       "4434   85.0  70.0   91.0  104.0   85.0  63.0   91.0  100.0  81.0   4.0  \n",
       "\n",
       "[4435 rows x 37 columns]"
      ]
     },
     "execution_count": 7,
     "metadata": {},
     "output_type": "execute_result"
    }
   ],
   "source": [
    "names = ['wr1','wr2','wr3','wr4','wr5','wr6','wr7','wr8','wr9','wr10','wr11','wr12','wr13','wr14','wr15','wr16','wr17','wr18','wr19','wr20','wr21','wr22','wr23','wr24','wr25','wr26','wr27','wr28','wr29','wr30','wr31','wr32','wr33','wr34','wr35','wr36','wr37']\n",
    "df = pd.DataFrame(nh, columns = names)\n",
    "df"
   ]
  },
  {
   "cell_type": "code",
   "execution_count": 10,
   "metadata": {},
   "outputs": [
    {
     "data": {
      "text/plain": [
       "array([5.])"
      ]
     },
     "execution_count": 10,
     "metadata": {},
     "output_type": "execute_result"
    }
   ],
   "source": [
    "y = df['wr37'].values\n",
    "y[-6:-5]"
   ]
  },
  {
   "cell_type": "code",
   "execution_count": 11,
   "metadata": {},
   "outputs": [
    {
     "data": {
      "text/html": [
       "<div>\n",
       "<style scoped>\n",
       "    .dataframe tbody tr th:only-of-type {\n",
       "        vertical-align: middle;\n",
       "    }\n",
       "\n",
       "    .dataframe tbody tr th {\n",
       "        vertical-align: top;\n",
       "    }\n",
       "\n",
       "    .dataframe thead th {\n",
       "        text-align: right;\n",
       "    }\n",
       "</style>\n",
       "<table border=\"1\" class=\"dataframe\">\n",
       "  <thead>\n",
       "    <tr style=\"text-align: right;\">\n",
       "      <th></th>\n",
       "      <th>wr1</th>\n",
       "      <th>wr2</th>\n",
       "      <th>wr3</th>\n",
       "      <th>wr4</th>\n",
       "      <th>wr5</th>\n",
       "      <th>wr6</th>\n",
       "      <th>wr7</th>\n",
       "      <th>wr8</th>\n",
       "      <th>wr9</th>\n",
       "      <th>wr10</th>\n",
       "      <th>...</th>\n",
       "      <th>wr27</th>\n",
       "      <th>wr28</th>\n",
       "      <th>wr29</th>\n",
       "      <th>wr30</th>\n",
       "      <th>wr31</th>\n",
       "      <th>wr32</th>\n",
       "      <th>wr33</th>\n",
       "      <th>wr34</th>\n",
       "      <th>wr35</th>\n",
       "      <th>wr36</th>\n",
       "    </tr>\n",
       "  </thead>\n",
       "  <tbody>\n",
       "    <tr>\n",
       "      <th>0</th>\n",
       "      <td>92.0</td>\n",
       "      <td>115.0</td>\n",
       "      <td>120.0</td>\n",
       "      <td>94.0</td>\n",
       "      <td>84.0</td>\n",
       "      <td>102.0</td>\n",
       "      <td>106.0</td>\n",
       "      <td>79.0</td>\n",
       "      <td>84.0</td>\n",
       "      <td>102.0</td>\n",
       "      <td>...</td>\n",
       "      <td>134.0</td>\n",
       "      <td>104.0</td>\n",
       "      <td>88.0</td>\n",
       "      <td>121.0</td>\n",
       "      <td>128.0</td>\n",
       "      <td>100.0</td>\n",
       "      <td>84.0</td>\n",
       "      <td>107.0</td>\n",
       "      <td>113.0</td>\n",
       "      <td>87.0</td>\n",
       "    </tr>\n",
       "    <tr>\n",
       "      <th>1</th>\n",
       "      <td>84.0</td>\n",
       "      <td>102.0</td>\n",
       "      <td>106.0</td>\n",
       "      <td>79.0</td>\n",
       "      <td>84.0</td>\n",
       "      <td>102.0</td>\n",
       "      <td>102.0</td>\n",
       "      <td>83.0</td>\n",
       "      <td>80.0</td>\n",
       "      <td>102.0</td>\n",
       "      <td>...</td>\n",
       "      <td>128.0</td>\n",
       "      <td>100.0</td>\n",
       "      <td>84.0</td>\n",
       "      <td>107.0</td>\n",
       "      <td>113.0</td>\n",
       "      <td>87.0</td>\n",
       "      <td>84.0</td>\n",
       "      <td>99.0</td>\n",
       "      <td>104.0</td>\n",
       "      <td>79.0</td>\n",
       "    </tr>\n",
       "    <tr>\n",
       "      <th>2</th>\n",
       "      <td>84.0</td>\n",
       "      <td>102.0</td>\n",
       "      <td>102.0</td>\n",
       "      <td>83.0</td>\n",
       "      <td>80.0</td>\n",
       "      <td>102.0</td>\n",
       "      <td>102.0</td>\n",
       "      <td>79.0</td>\n",
       "      <td>84.0</td>\n",
       "      <td>94.0</td>\n",
       "      <td>...</td>\n",
       "      <td>113.0</td>\n",
       "      <td>87.0</td>\n",
       "      <td>84.0</td>\n",
       "      <td>99.0</td>\n",
       "      <td>104.0</td>\n",
       "      <td>79.0</td>\n",
       "      <td>84.0</td>\n",
       "      <td>99.0</td>\n",
       "      <td>104.0</td>\n",
       "      <td>79.0</td>\n",
       "    </tr>\n",
       "    <tr>\n",
       "      <th>3</th>\n",
       "      <td>80.0</td>\n",
       "      <td>102.0</td>\n",
       "      <td>102.0</td>\n",
       "      <td>79.0</td>\n",
       "      <td>84.0</td>\n",
       "      <td>94.0</td>\n",
       "      <td>102.0</td>\n",
       "      <td>79.0</td>\n",
       "      <td>80.0</td>\n",
       "      <td>94.0</td>\n",
       "      <td>...</td>\n",
       "      <td>104.0</td>\n",
       "      <td>79.0</td>\n",
       "      <td>84.0</td>\n",
       "      <td>99.0</td>\n",
       "      <td>104.0</td>\n",
       "      <td>79.0</td>\n",
       "      <td>84.0</td>\n",
       "      <td>103.0</td>\n",
       "      <td>104.0</td>\n",
       "      <td>79.0</td>\n",
       "    </tr>\n",
       "    <tr>\n",
       "      <th>4</th>\n",
       "      <td>84.0</td>\n",
       "      <td>94.0</td>\n",
       "      <td>102.0</td>\n",
       "      <td>79.0</td>\n",
       "      <td>80.0</td>\n",
       "      <td>94.0</td>\n",
       "      <td>98.0</td>\n",
       "      <td>76.0</td>\n",
       "      <td>80.0</td>\n",
       "      <td>102.0</td>\n",
       "      <td>...</td>\n",
       "      <td>104.0</td>\n",
       "      <td>79.0</td>\n",
       "      <td>84.0</td>\n",
       "      <td>103.0</td>\n",
       "      <td>104.0</td>\n",
       "      <td>79.0</td>\n",
       "      <td>79.0</td>\n",
       "      <td>107.0</td>\n",
       "      <td>109.0</td>\n",
       "      <td>87.0</td>\n",
       "    </tr>\n",
       "    <tr>\n",
       "      <th>...</th>\n",
       "      <td>...</td>\n",
       "      <td>...</td>\n",
       "      <td>...</td>\n",
       "      <td>...</td>\n",
       "      <td>...</td>\n",
       "      <td>...</td>\n",
       "      <td>...</td>\n",
       "      <td>...</td>\n",
       "      <td>...</td>\n",
       "      <td>...</td>\n",
       "      <td>...</td>\n",
       "      <td>...</td>\n",
       "      <td>...</td>\n",
       "      <td>...</td>\n",
       "      <td>...</td>\n",
       "      <td>...</td>\n",
       "      <td>...</td>\n",
       "      <td>...</td>\n",
       "      <td>...</td>\n",
       "      <td>...</td>\n",
       "      <td>...</td>\n",
       "    </tr>\n",
       "    <tr>\n",
       "      <th>4430</th>\n",
       "      <td>56.0</td>\n",
       "      <td>64.0</td>\n",
       "      <td>108.0</td>\n",
       "      <td>96.0</td>\n",
       "      <td>64.0</td>\n",
       "      <td>71.0</td>\n",
       "      <td>108.0</td>\n",
       "      <td>96.0</td>\n",
       "      <td>68.0</td>\n",
       "      <td>75.0</td>\n",
       "      <td>...</td>\n",
       "      <td>108.0</td>\n",
       "      <td>92.0</td>\n",
       "      <td>66.0</td>\n",
       "      <td>83.0</td>\n",
       "      <td>108.0</td>\n",
       "      <td>96.0</td>\n",
       "      <td>66.0</td>\n",
       "      <td>87.0</td>\n",
       "      <td>104.0</td>\n",
       "      <td>89.0</td>\n",
       "    </tr>\n",
       "    <tr>\n",
       "      <th>4431</th>\n",
       "      <td>64.0</td>\n",
       "      <td>71.0</td>\n",
       "      <td>108.0</td>\n",
       "      <td>96.0</td>\n",
       "      <td>68.0</td>\n",
       "      <td>75.0</td>\n",
       "      <td>108.0</td>\n",
       "      <td>96.0</td>\n",
       "      <td>71.0</td>\n",
       "      <td>87.0</td>\n",
       "      <td>...</td>\n",
       "      <td>108.0</td>\n",
       "      <td>96.0</td>\n",
       "      <td>66.0</td>\n",
       "      <td>87.0</td>\n",
       "      <td>104.0</td>\n",
       "      <td>89.0</td>\n",
       "      <td>63.0</td>\n",
       "      <td>87.0</td>\n",
       "      <td>104.0</td>\n",
       "      <td>89.0</td>\n",
       "    </tr>\n",
       "    <tr>\n",
       "      <th>4432</th>\n",
       "      <td>68.0</td>\n",
       "      <td>75.0</td>\n",
       "      <td>108.0</td>\n",
       "      <td>96.0</td>\n",
       "      <td>71.0</td>\n",
       "      <td>87.0</td>\n",
       "      <td>108.0</td>\n",
       "      <td>88.0</td>\n",
       "      <td>71.0</td>\n",
       "      <td>91.0</td>\n",
       "      <td>...</td>\n",
       "      <td>104.0</td>\n",
       "      <td>89.0</td>\n",
       "      <td>63.0</td>\n",
       "      <td>87.0</td>\n",
       "      <td>104.0</td>\n",
       "      <td>89.0</td>\n",
       "      <td>70.0</td>\n",
       "      <td>100.0</td>\n",
       "      <td>104.0</td>\n",
       "      <td>85.0</td>\n",
       "    </tr>\n",
       "    <tr>\n",
       "      <th>4433</th>\n",
       "      <td>71.0</td>\n",
       "      <td>87.0</td>\n",
       "      <td>108.0</td>\n",
       "      <td>88.0</td>\n",
       "      <td>71.0</td>\n",
       "      <td>91.0</td>\n",
       "      <td>100.0</td>\n",
       "      <td>81.0</td>\n",
       "      <td>76.0</td>\n",
       "      <td>95.0</td>\n",
       "      <td>...</td>\n",
       "      <td>104.0</td>\n",
       "      <td>89.0</td>\n",
       "      <td>70.0</td>\n",
       "      <td>100.0</td>\n",
       "      <td>104.0</td>\n",
       "      <td>85.0</td>\n",
       "      <td>70.0</td>\n",
       "      <td>91.0</td>\n",
       "      <td>104.0</td>\n",
       "      <td>85.0</td>\n",
       "    </tr>\n",
       "    <tr>\n",
       "      <th>4434</th>\n",
       "      <td>71.0</td>\n",
       "      <td>91.0</td>\n",
       "      <td>100.0</td>\n",
       "      <td>81.0</td>\n",
       "      <td>76.0</td>\n",
       "      <td>95.0</td>\n",
       "      <td>108.0</td>\n",
       "      <td>88.0</td>\n",
       "      <td>80.0</td>\n",
       "      <td>95.0</td>\n",
       "      <td>...</td>\n",
       "      <td>104.0</td>\n",
       "      <td>85.0</td>\n",
       "      <td>70.0</td>\n",
       "      <td>91.0</td>\n",
       "      <td>104.0</td>\n",
       "      <td>85.0</td>\n",
       "      <td>63.0</td>\n",
       "      <td>91.0</td>\n",
       "      <td>100.0</td>\n",
       "      <td>81.0</td>\n",
       "    </tr>\n",
       "  </tbody>\n",
       "</table>\n",
       "<p>4435 rows × 36 columns</p>\n",
       "</div>"
      ],
      "text/plain": [
       "       wr1    wr2    wr3   wr4   wr5    wr6    wr7   wr8   wr9   wr10  ...  \\\n",
       "0     92.0  115.0  120.0  94.0  84.0  102.0  106.0  79.0  84.0  102.0  ...   \n",
       "1     84.0  102.0  106.0  79.0  84.0  102.0  102.0  83.0  80.0  102.0  ...   \n",
       "2     84.0  102.0  102.0  83.0  80.0  102.0  102.0  79.0  84.0   94.0  ...   \n",
       "3     80.0  102.0  102.0  79.0  84.0   94.0  102.0  79.0  80.0   94.0  ...   \n",
       "4     84.0   94.0  102.0  79.0  80.0   94.0   98.0  76.0  80.0  102.0  ...   \n",
       "...    ...    ...    ...   ...   ...    ...    ...   ...   ...    ...  ...   \n",
       "4430  56.0   64.0  108.0  96.0  64.0   71.0  108.0  96.0  68.0   75.0  ...   \n",
       "4431  64.0   71.0  108.0  96.0  68.0   75.0  108.0  96.0  71.0   87.0  ...   \n",
       "4432  68.0   75.0  108.0  96.0  71.0   87.0  108.0  88.0  71.0   91.0  ...   \n",
       "4433  71.0   87.0  108.0  88.0  71.0   91.0  100.0  81.0  76.0   95.0  ...   \n",
       "4434  71.0   91.0  100.0  81.0  76.0   95.0  108.0  88.0  80.0   95.0  ...   \n",
       "\n",
       "       wr27   wr28  wr29   wr30   wr31   wr32  wr33   wr34   wr35  wr36  \n",
       "0     134.0  104.0  88.0  121.0  128.0  100.0  84.0  107.0  113.0  87.0  \n",
       "1     128.0  100.0  84.0  107.0  113.0   87.0  84.0   99.0  104.0  79.0  \n",
       "2     113.0   87.0  84.0   99.0  104.0   79.0  84.0   99.0  104.0  79.0  \n",
       "3     104.0   79.0  84.0   99.0  104.0   79.0  84.0  103.0  104.0  79.0  \n",
       "4     104.0   79.0  84.0  103.0  104.0   79.0  79.0  107.0  109.0  87.0  \n",
       "...     ...    ...   ...    ...    ...    ...   ...    ...    ...   ...  \n",
       "4430  108.0   92.0  66.0   83.0  108.0   96.0  66.0   87.0  104.0  89.0  \n",
       "4431  108.0   96.0  66.0   87.0  104.0   89.0  63.0   87.0  104.0  89.0  \n",
       "4432  104.0   89.0  63.0   87.0  104.0   89.0  70.0  100.0  104.0  85.0  \n",
       "4433  104.0   89.0  70.0  100.0  104.0   85.0  70.0   91.0  104.0  85.0  \n",
       "4434  104.0   85.0  70.0   91.0  104.0   85.0  63.0   91.0  100.0  81.0  \n",
       "\n",
       "[4435 rows x 36 columns]"
      ]
     },
     "execution_count": 11,
     "metadata": {},
     "output_type": "execute_result"
    }
   ],
   "source": [
    "dff = df.drop(columns=['wr37'])\n",
    "dff"
   ]
  },
  {
   "cell_type": "markdown",
   "metadata": {},
   "source": [
    "Now, we will split our satellite dataset into 70:30 ratio"
   ]
  },
  {
   "cell_type": "code",
   "execution_count": 13,
   "metadata": {},
   "outputs": [],
   "source": [
    "from sklearn.model_selection import train_test_split\n",
    "X_train, X_test, y_train, y_test = train_test_split(dff,y,test_size=0.3,random_state=1,stratify = y)"
   ]
  },
  {
   "cell_type": "markdown",
   "metadata": {},
   "source": [
    "Previously , some random numbers of neighbors were taken, but once we found best number of neighbors equal to 12, we did it for 12."
   ]
  },
  {
   "cell_type": "code",
   "execution_count": 47,
   "metadata": {},
   "outputs": [
    {
     "data": {
      "text/plain": [
       "KNeighborsClassifier(algorithm='auto', leaf_size=30, metric='minkowski',\n",
       "                     metric_params=None, n_jobs=None, n_neighbors=12, p=2,\n",
       "                     weights='uniform')"
      ]
     },
     "execution_count": 47,
     "metadata": {},
     "output_type": "execute_result"
    }
   ],
   "source": [
    "from sklearn.neighbors import KNeighborsClassifier\n",
    "knn = KNeighborsClassifier(n_neighbors=12)\n",
    "knn.fit(X_train, y_train)"
   ]
  },
  {
   "cell_type": "code",
   "execution_count": 48,
   "metadata": {},
   "outputs": [
    {
     "data": {
      "text/plain": [
       "array([2., 2., 2., ..., 3., 7., 3.])"
      ]
     },
     "execution_count": 48,
     "metadata": {},
     "output_type": "execute_result"
    }
   ],
   "source": [
    "knn.predict(X_test)[:-5]"
   ]
  },
  {
   "cell_type": "markdown",
   "metadata": {},
   "source": [
    "This is our accuracy score for this model of 12 nearest neighbors."
   ]
  },
  {
   "cell_type": "code",
   "execution_count": 49,
   "metadata": {},
   "outputs": [
    {
     "data": {
      "text/plain": [
       "0.8888054094665665"
      ]
     },
     "execution_count": 49,
     "metadata": {},
     "output_type": "execute_result"
    }
   ],
   "source": [
    "knn.score(X_test,y_test)"
   ]
  },
  {
   "cell_type": "markdown",
   "metadata": {},
   "source": [
    "This was just to do some k-cross validation. where we took cv = 5"
   ]
  },
  {
   "cell_type": "code",
   "execution_count": 50,
   "metadata": {},
   "outputs": [
    {
     "name": "stdout",
     "output_type": "stream",
     "text": [
      "[0.88566828 0.90660225 0.88405797 0.88727858 0.9016129 ]\n",
      "cv_scores mean:0.8930439977144043\n"
     ]
    }
   ],
   "source": [
    "from sklearn.model_selection import cross_val_score\n",
    "import numpy as np\n",
    "#create a new KNN model\n",
    "knn_cv = KNeighborsClassifier(n_neighbors=4)\n",
    "#train model with cv of 5 \n",
    "cv_scores = cross_val_score(knn_cv, X_train, y_train, cv=5)\n",
    "#print each cv score (accuracy) and average them\n",
    "print(cv_scores)\n",
    "print('cv_scores mean:{}'.format(np.mean(cv_scores)))"
   ]
  },
  {
   "cell_type": "code",
   "execution_count": 69,
   "metadata": {},
   "outputs": [
    {
     "name": "stdout",
     "output_type": "stream",
     "text": [
      "Collecting scikit-learn==0.19.2\n",
      "  Downloading scikit_learn-0.19.2-cp37-cp37m-win_amd64.whl (4.4 MB)\n",
      "Installing collected packages: scikit-learn\n",
      "  Attempting uninstall: scikit-learn\n",
      "    Found existing installation: scikit-learn 0.22.1\n",
      "    Uninstalling scikit-learn-0.22.1:\n",
      "      Successfully uninstalled scikit-learn-0.22.1\n"
     ]
    },
    {
     "name": "stderr",
     "output_type": "stream",
     "text": [
      "ERROR: Could not install packages due to an EnvironmentError: [WinError 5] Access is denied: 'c:\\\\users\\\\siddhartha\\\\anaconda3\\\\lib\\\\site-packages\\\\~klearn\\\\cluster\\\\_dbscan_inner.cp37-win_amd64.pyd'\n",
      "Consider using the `--user` option or check the permissions.\n",
      "\n"
     ]
    }
   ],
   "source": [
    "!pip install scikit-learn==0.19.2"
   ]
  },
  {
   "cell_type": "markdown",
   "metadata": {},
   "source": [
    "This is th emst important thing, where we actually did Grid Search cv to get optimum number of K here."
   ]
  },
  {
   "cell_type": "code",
   "execution_count": 89,
   "metadata": {},
   "outputs": [],
   "source": [
    "\n",
    "from sklearn.model_selection import GridSearchCV\n",
    "#create new a knn model\n",
    "knn2 = KNeighborsClassifier()\n",
    "#create a dictionary of all values we want to test for n_neighbors\n",
    "hj = list(range(1,25))\n",
    "param_grid = {'n_neighbors': hj}\n",
    "#use gridsearch to test all values for n_neighbors\n",
    "knn_gscv = GridSearchCV(knn2, param_grid, cv=5, scoring = 'accuracy')\n",
    "#print (knn_gscv.error)\n",
    "#fit model to data\n",
    "knn_gscv.fit(dff, y)\n",
    "#pred = knn_gscv.predict(X_test)"
   ]
  },
  {
   "cell_type": "code",
   "execution_count": 99,
   "metadata": {},
   "outputs": [
    {
     "data": {
      "text/plain": [
       "0.9129650507328072"
      ]
     },
     "execution_count": 99,
     "metadata": {},
     "output_type": "execute_result"
    }
   ],
   "source": [
    "knn_gscv.score(dff,y)"
   ]
  },
  {
   "cell_type": "markdown",
   "metadata": {},
   "source": [
    "This is done to check, how actually working happen in grid search."
   ]
  },
  {
   "cell_type": "code",
   "execution_count": 77,
   "metadata": {},
   "outputs": [
    {
     "data": {
      "text/plain": [
       "{'mean_fit_time': array([0.04969759, 0.04938774, 0.0491118 , 0.05166674, 0.04808106,\n",
       "        0.04743338, 0.04817986, 0.04739723, 0.05210581, 0.04985657,\n",
       "        0.05197654, 0.04892497, 0.04698992, 0.05220428, 0.05388923,\n",
       "        0.05013547, 0.04905376, 0.05076447, 0.05322652, 0.05011048,\n",
       "        0.04919972, 0.04853554, 0.04962115, 0.0492135 ]),\n",
       " 'std_fit_time': array([0.00329176, 0.00121255, 0.00091021, 0.00431232, 0.0054341 ,\n",
       "        0.00094341, 0.00142557, 0.00995209, 0.00404321, 0.00469363,\n",
       "        0.00537005, 0.00122974, 0.00578359, 0.00659511, 0.00726927,\n",
       "        0.0022556 , 0.0040493 , 0.00330767, 0.00638487, 0.00203251,\n",
       "        0.00062535, 0.00159689, 0.00437775, 0.00121475]),\n",
       " 'mean_score_time': array([0.19537063, 0.20252428, 0.21125169, 0.21262507, 0.22162161,\n",
       "        0.22767005, 0.22354426, 0.22480817, 0.23137698, 0.230057  ,\n",
       "        0.22964826, 0.23827243, 0.23360348, 0.23410048, 0.23706636,\n",
       "        0.239995  , 0.24137807, 0.24421463, 0.24148846, 0.25469222,\n",
       "        0.24752502, 0.25154619, 0.25380626, 0.2552237 ]),\n",
       " 'std_score_time': array([0.00445718, 0.00643953, 0.01179891, 0.00937483, 0.01212292,\n",
       "        0.01045849, 0.01016228, 0.01161049, 0.01484658, 0.01906214,\n",
       "        0.00625773, 0.00744903, 0.00848363, 0.00976614, 0.00898889,\n",
       "        0.01198547, 0.00733546, 0.01756723, 0.01012442, 0.01692792,\n",
       "        0.01327194, 0.01938497, 0.01021886, 0.01268927]),\n",
       " 'param_n_neighbors': masked_array(data=[1, 2, 3, 4, 5, 6, 7, 8, 9, 10, 11, 12, 13, 14, 15, 16,\n",
       "                    17, 18, 19, 20, 21, 22, 23, 24],\n",
       "              mask=[False, False, False, False, False, False, False, False,\n",
       "                    False, False, False, False, False, False, False, False,\n",
       "                    False, False, False, False, False, False, False, False],\n",
       "        fill_value='?',\n",
       "             dtype=object),\n",
       " 'params': [{'n_neighbors': 1},\n",
       "  {'n_neighbors': 2},\n",
       "  {'n_neighbors': 3},\n",
       "  {'n_neighbors': 4},\n",
       "  {'n_neighbors': 5},\n",
       "  {'n_neighbors': 6},\n",
       "  {'n_neighbors': 7},\n",
       "  {'n_neighbors': 8},\n",
       "  {'n_neighbors': 9},\n",
       "  {'n_neighbors': 10},\n",
       "  {'n_neighbors': 11},\n",
       "  {'n_neighbors': 12},\n",
       "  {'n_neighbors': 13},\n",
       "  {'n_neighbors': 14},\n",
       "  {'n_neighbors': 15},\n",
       "  {'n_neighbors': 16},\n",
       "  {'n_neighbors': 17},\n",
       "  {'n_neighbors': 18},\n",
       "  {'n_neighbors': 19},\n",
       "  {'n_neighbors': 20},\n",
       "  {'n_neighbors': 21},\n",
       "  {'n_neighbors': 22},\n",
       "  {'n_neighbors': 23},\n",
       "  {'n_neighbors': 24}],\n",
       " 'split0_test_score': array([0.8410372 , 0.85231116, 0.85005637, 0.84780158, 0.85794814,\n",
       "        0.87034949, 0.87147689, 0.87598647, 0.8692221 , 0.87824126,\n",
       "        0.87824126, 0.87485908, 0.87711387, 0.87485908, 0.87373168,\n",
       "        0.87147689, 0.87147689, 0.87034949, 0.8692221 , 0.8692221 ,\n",
       "        0.87034949, 0.86583991, 0.8692221 , 0.87034949]),\n",
       " 'split1_test_score': array([0.81848929, 0.83201804, 0.83089064, 0.8421646 , 0.83765502,\n",
       "        0.8421646 , 0.83540023, 0.83878241, 0.83878241, 0.83990981,\n",
       "        0.8410372 , 0.84441939, 0.84780158, 0.84441939, 0.843292  ,\n",
       "        0.8410372 , 0.84441939, 0.84441939, 0.84667418, 0.84667418,\n",
       "        0.84892897, 0.84554679, 0.84554679, 0.85005637]),\n",
       " 'split2_test_score': array([0.85907554, 0.88613303, 0.87034949, 0.88049605, 0.87485908,\n",
       "        0.88275085, 0.87711387, 0.88275085, 0.88275085, 0.88275085,\n",
       "        0.88275085, 0.88613303, 0.88387824, 0.88726043, 0.88387824,\n",
       "        0.88162345, 0.87936866, 0.88275085, 0.88049605, 0.87824126,\n",
       "        0.87598647, 0.87598647, 0.87711387, 0.87936866]),\n",
       " 'split3_test_score': array([0.82074408, 0.80834273, 0.82187148, 0.82074408, 0.82976325,\n",
       "        0.82638106, 0.82638106, 0.82863585, 0.82863585, 0.83427283,\n",
       "        0.83201804, 0.83201804, 0.82863585, 0.82750846, 0.82750846,\n",
       "        0.82638106, 0.82750846, 0.82074408, 0.82863585, 0.82638106,\n",
       "        0.82750846, 0.82638106, 0.82525366, 0.82638106]),\n",
       " 'split4_test_score': array([0.78241263, 0.78466742, 0.79932356, 0.80045096, 0.80383315,\n",
       "        0.80721533, 0.81172492, 0.81848929, 0.81961669, 0.82074408,\n",
       "        0.82525366, 0.83089064, 0.82525366, 0.82074408, 0.82638106,\n",
       "        0.82863585, 0.82976325, 0.82638106, 0.82976325, 0.82412627,\n",
       "        0.82187148, 0.82299887, 0.82187148, 0.81961669]),\n",
       " 'mean_test_score': array([0.82435175, 0.83269448, 0.83449831, 0.83833145, 0.84081172,\n",
       "        0.84577227, 0.84441939, 0.84892897, 0.84780158, 0.85118377,\n",
       "        0.8518602 , 0.85366404, 0.85253664, 0.85095829, 0.85095829,\n",
       "        0.84983089, 0.85050733, 0.84892897, 0.85095829, 0.84892897,\n",
       "        0.84892897, 0.84735062, 0.84780158, 0.84915445]),\n",
       " 'std_test_score': array([0.02565315, 0.03504442, 0.02423665, 0.02693131, 0.0242995 ,\n",
       "        0.02773852, 0.02559958, 0.02575797, 0.02417994, 0.02477194,\n",
       "        0.02395391, 0.02269848, 0.02418415, 0.02605626, 0.02372786,\n",
       "        0.02260871, 0.02130271, 0.02419046, 0.02084189, 0.02190748,\n",
       "        0.0218261 , 0.02096592, 0.02237817, 0.02346934]),\n",
       " 'rank_test_score': array([24, 23, 22, 21, 20, 18, 19, 11, 15,  4,  3,  1,  2,  5,  5,  9,  8,\n",
       "        14,  5, 11, 11, 17, 15, 10])}"
      ]
     },
     "execution_count": 77,
     "metadata": {},
     "output_type": "execute_result"
    }
   ],
   "source": [
    "#knn_gscv.grid_scores_\n",
    "scores = knn_gscv.cv_results_#['mean_test_score'].reshape(-1, 3).T\n",
    "scores"
   ]
  },
  {
   "cell_type": "markdown",
   "metadata": {},
   "source": [
    "# From here we came to know, optimal nearset number of neighbors to be 12."
   ]
  },
  {
   "cell_type": "code",
   "execution_count": 97,
   "metadata": {},
   "outputs": [
    {
     "data": {
      "text/plain": [
       "{'n_neighbors': 12}"
      ]
     },
     "execution_count": 97,
     "metadata": {},
     "output_type": "execute_result"
    }
   ],
   "source": [
    "knn_gscv.best_params_"
   ]
  },
  {
   "cell_type": "raw",
   "metadata": {},
   "source": [
    "Here,we plotted graph for error vs. K."
   ]
  },
  {
   "cell_type": "code",
   "execution_count": 106,
   "metadata": {},
   "outputs": [],
   "source": [
    "error_rate = []\n",
    "for i in range(2,25):\n",
    "    knn = KNeighborsClassifier(n_neighbors=i)\n",
    "    knn.fit(X_train,y_train)\n",
    "    pred_i = knn.predict(X_test)\n",
    "    error_rate.append(np.mean(pred_i != y_test))\n",
    "    "
   ]
  },
  {
   "cell_type": "code",
   "execution_count": 107,
   "metadata": {},
   "outputs": [
    {
     "data": {
      "text/plain": [
       "Text(0, 0.5, 'Error Rate')"
      ]
     },
     "execution_count": 107,
     "metadata": {},
     "output_type": "execute_result"
    },
    {
     "data": {
      "image/png": "[encoded data removed]",
      "text/plain": [
       "<Figure size 720x432 with 1 Axes>"
      ]
     },
     "metadata": {
      "needs_background": "light"
     },
     "output_type": "display_data"
    }
   ],
   "source": [
    "plt.figure(figsize=(10,6))\n",
    "plt.plot(range(2,25),error_rate,color='blue', linestyle='dashed', marker='o',\n",
    "markerfacecolor='red', markersize=10)\n",
    "plt.title('Error Rate vs. K Value')\n",
    "plt.xlabel('K')\n",
    "plt.ylabel('Error Rate')"
   ]
  },
  {
   "cell_type": "code",
   "execution_count": 55,
   "metadata": {},
   "outputs": [
    {
     "data": {
      "text/plain": [
       "KNeighborsClassifier(algorithm='auto', leaf_size=30, metric='minkowski',\n",
       "                     metric_params=None, n_jobs=None, n_neighbors=12, p=2,\n",
       "                     weights='uniform')"
      ]
     },
     "execution_count": 55,
     "metadata": {},
     "output_type": "execute_result"
    }
   ],
   "source": [
    "from sklearn.neighbors import KNeighborsClassifier\n",
    "knn = KNeighborsClassifier(n_neighbors=12)\n",
    "knn.fit(X_train, y_train)"
   ]
  },
  {
   "cell_type": "code",
   "execution_count": null,
   "metadata": {},
   "outputs": [],
   "source": []
  },
  {
   "cell_type": "raw",
   "metadata": {},
   "source": [
    "Accuracy fir test set(validation)"
   ]
  },
  {
   "cell_type": "code",
   "execution_count": 56,
   "metadata": {},
   "outputs": [
    {
     "data": {
      "text/plain": [
       "0.8888054094665665"
      ]
     },
     "execution_count": 56,
     "metadata": {},
     "output_type": "execute_result"
    }
   ],
   "source": [
    "knn.score(X_test,y_test)"
   ]
  },
  {
   "cell_type": "markdown",
   "metadata": {},
   "source": [
    "Accuracy score for training set"
   ]
  },
  {
   "cell_type": "code",
   "execution_count": 105,
   "metadata": {},
   "outputs": [
    {
     "data": {
      "text/plain": [
       "0.8927190721649485"
      ]
     },
     "execution_count": 105,
     "metadata": {},
     "output_type": "execute_result"
    }
   ],
   "source": [
    "knn.score(X_train,y_train)"
   ]
  },
  {
   "cell_type": "code",
   "execution_count": null,
   "metadata": {},
   "outputs": [],
   "source": []
  }
 ],
 "metadata": {
  "kernelspec": {
   "display_name": "Python 3",
   "language": "python",
   "name": "python3"
  },
  "language_info": {
   "codemirror_mode": {
    "name": "ipython",
    "version": 3
   },
   "file_extension": ".py",
   "mimetype": "text/x-python",
   "name": "python",
   "nbconvert_exporter": "python",
   "pygments_lexer": "ipython3",
   "version": "3.7.6"
  }
 },
 "nbformat": 4,
 "nbformat_minor": 4
}
